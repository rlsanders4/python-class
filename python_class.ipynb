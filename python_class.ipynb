{
  "cells": [
    {
      "cell_type": "markdown",
      "metadata": {
        "colab_type": "text",
        "id": "view-in-github"
      },
      "source": [
        "<a href=\"https://colab.research.google.com/github/rlsanders4/python-class/blob/main/python_class.ipynb\" target=\"_parent\"><img src=\"https://colab.research.google.com/assets/colab-badge.svg\" alt=\"Open In Colab\"/></a>"
      ]
    },
    {
      "cell_type": "markdown",
      "metadata": {
        "id": "VFG-4HDj7RQk"
      },
      "source": [
        "# Python Basics"
      ]
    },
    {
      "cell_type": "markdown",
      "metadata": {
        "id": "Z-4QLjdm7RQl"
      },
      "source": [
        "## Data types"
      ]
    },
    {
      "cell_type": "markdown",
      "metadata": {
        "id": "F7CVSZ8Q7RQm"
      },
      "source": [
        "### Boolean"
      ]
    },
    {
      "cell_type": "code",
      "execution_count": 3,
      "metadata": {
        "id": "PZY8FRYe7RQm"
      },
      "outputs": [],
      "source": [
        "trueBoolean = True\n",
        "falseBoolean = False\n",
        "\n",
        "# Comparison operators: ==, !=, <, >, <=, >=\n",
        "\n",
        "# Logical operators: and, or, not"
      ]
    },
    {
      "cell_type": "markdown",
      "metadata": {
        "id": "JPQJ1ABZ7RQm"
      },
      "source": [
        "### Integers and Floats"
      ]
    },
    {
      "cell_type": "code",
      "execution_count": null,
      "metadata": {
        "id": "BE5ZG5ba7RQn"
      },
      "outputs": [],
      "source": [
        "myInt = 3\n",
        "myFloat = 3.14\n",
        "sum = myInt * myFloat\n",
        "\n",
        "# Operators: +, -, *, / , %, **, //\n",
        "\n",
        "range(10)\n",
        "\n",
        "print()"
      ]
    },
    {
      "cell_type": "markdown",
      "metadata": {
        "id": "rdeEZ9vV7RQn"
      },
      "source": [
        "### String"
      ]
    },
    {
      "cell_type": "code",
      "execution_count": null,
      "metadata": {
        "id": "jZEAt9fl7RQn"
      },
      "outputs": [],
      "source": [
        "# Create a string with double quotes\n",
        "doubleQuoteString = \"this is a string\"\n",
        "\n",
        "# Create a string with single quotes\n",
        "singleQuoteString = 'this is also a string'\n",
        "\n",
        "#Create a multiline string\n",
        "multiLineString = \"\"\"multiple\n",
        "line\n",
        "string\n",
        "\"\"\"\n",
        "\n",
        "# Concatinate two strings\n",
        "concatination = \"two strings \" + \"combined\"\n",
        "\n",
        "# Use special characters in a string\n",
        "specialCharacterString = \"multiple\\nline\\nstring\\n\"\n",
        "\n",
        "# Escape the '\\' character in a string\n",
        "windowsPath = \"C:\\\\my\\\\file\\\\path\"\n",
        "\n",
        "# Use a raw string\n",
        "windowsPathRaw = R\"C:\\my\\file\\path\"\n",
        "\n",
        "# Format a string\n",
        "name = \"Ralph\"\n",
        "greeting = f\"hello, my name is {name}\"\n",
        "\n",
        "# Get the length of a string\n",
        "length = len(doubleQuoteString)\n",
        "\n",
        "# Slice a string\n",
        "stringSlice = doubleQuoteString[::]\n",
        "\n",
        "print()"
      ]
    },
    {
      "cell_type": "markdown",
      "metadata": {
        "id": "lFaxZPUY7RQn"
      },
      "source": [
        "### Set"
      ]
    },
    {
      "cell_type": "code",
      "execution_count": null,
      "metadata": {
        "id": "PvEB4fk67RQo"
      },
      "outputs": [],
      "source": [
        "# Unordered\n",
        "# Unindexed\n",
        "# Does not contain duplicates\n",
        "\n",
        "# Initilization\n",
        "mySet = {\"first\", \"second\", \"third\"}\n",
        "\n",
        "# Add an element\n",
        "mySet.add(\"fourth\")\n",
        "\n",
        "# Remove an element\n",
        "mySet.remove(\"fourth\")\n",
        "\n",
        "mySet2 = {\"fourth\", \"fifth\", \"sixth\"}\n",
        "\n",
        "# Union and intersection\n",
        "mySet.union(mySet2)\n",
        "mySet.intersection(mySet2)\n",
        "\n",
        "# Access an element\n",
        "for x in mySet:\n",
        "    pass # Do something\n",
        "\n",
        "print()"
      ]
    },
    {
      "cell_type": "markdown",
      "metadata": {
        "id": "-Sz6DtD-7RQo"
      },
      "source": [
        "### List"
      ]
    },
    {
      "cell_type": "code",
      "execution_count": null,
      "metadata": {
        "id": "HKxT6vf87RQo"
      },
      "outputs": [],
      "source": [
        "# Ordered\n",
        "# Indexed\n",
        "\n",
        "# Initialization\n",
        "myList = [\"first\", \"second\", \"third\"]\n",
        "comboList = [4.2, \"hello\", False]\n",
        "\n",
        "# Access an element\n",
        "myList[0]\n",
        "\n",
        "# Change an element\n",
        "myList[0] = \"newElement\"\n",
        "myList[0] = \"first\"\n",
        "\n",
        "# Add an element\n",
        "myList.append(\"fourth\")\n",
        "\n",
        "# Sort\n",
        "myList.sort()\n",
        "\n",
        "# Split and join\n",
        "stringList = \"my list of strings\".split(\" \")\n",
        "commaSeperatedString = \",\".join(stringList)\n",
        "\n",
        "# List comprehension\n",
        "newList = []\n",
        "for x in myList:\n",
        "    if \"t\" in x:\n",
        "        newList.append(x)\n",
        "\n",
        "newList = [x for x in myList if \"t\" in x]\n",
        "\n",
        "\n",
        "print()"
      ]
    },
    {
      "cell_type": "markdown",
      "metadata": {
        "id": "Lk7H_DBX7RQo"
      },
      "source": [
        "### Tuple"
      ]
    },
    {
      "cell_type": "code",
      "execution_count": null,
      "metadata": {
        "id": "F7YY4qHL7RQo"
      },
      "outputs": [],
      "source": [
        "# Ordered\n",
        "# Unchangeable\n",
        "# Indexed\n",
        "\n",
        "# Initialize\n",
        "myTuple = (\"first\", \"second\", \"third\")\n",
        "\n",
        "# Access an element\n",
        "myTuple[0]\n",
        "\n",
        "# Add an element\n",
        "myList = list(myTuple)\n",
        "myList.append(\"fourth\")\n",
        "myTuple2 = tuple(myList)\n",
        "\n",
        "# Combine with other data structures\n",
        "names = {[(\"john\", \"doe\"), (\"jane\", \"doe\")],[(\"john\", \"smith\"), (\"alex\", \"smith\")]}\n",
        "\n",
        "print()"
      ]
    },
    {
      "cell_type": "markdown",
      "metadata": {
        "id": "Hnp13F557RQo"
      },
      "source": [
        "### Dictionary"
      ]
    },
    {
      "cell_type": "code",
      "execution_count": null,
      "metadata": {
        "id": "xkpCKSk07RQp"
      },
      "outputs": [],
      "source": [
        "# Unordered/ordered\n",
        "\n",
        "# Initialize\n",
        "myDict = {\"joe\" : 400, \"rob\" : 500, \"josh\" : 600}\n",
        "\n",
        "# Access an element\n",
        "myDict[\"joe\"]\n",
        "\n",
        "# Change an element\n",
        "myDict[\"rob\"] = 550\n",
        "\n",
        "# Add a new element\n",
        "myDict[\"tom\"] = 600\n",
        "\n",
        "\n",
        "print()\n"
      ]
    },
    {
      "cell_type": "markdown",
      "metadata": {
        "id": "_gn5fpiI7RQp"
      },
      "source": [
        "## Flow Control"
      ]
    },
    {
      "cell_type": "markdown",
      "metadata": {
        "id": "mNo-8d7u7RQp"
      },
      "source": [
        "### If Statements"
      ]
    },
    {
      "cell_type": "code",
      "execution_count": null,
      "metadata": {
        "id": "1MnY_Mgf7RQp"
      },
      "outputs": [],
      "source": [
        "# if\n",
        "condition = True\n",
        "if (condition):\n",
        "    pass\n",
        "\n",
        "# if, elif, else\n",
        "a = 7\n",
        "if (a < 5):\n",
        "    pass\n",
        "elif (a == 5):\n",
        "    pass\n",
        "else:\n",
        "    pass\n",
        "\n",
        "# Ternary operator\n",
        "num = 12\n",
        "\n",
        "result = \"\"\n",
        "if (num > 10):\n",
        "    result = \"large\"\n",
        "else:\n",
        "    result = \"small\"\n",
        "\n",
        "result = \"large\" if num > 10 else \"small\"\n",
        "\n",
        "print()\n",
        "\n"
      ]
    },
    {
      "cell_type": "markdown",
      "metadata": {
        "id": "k-7NSp0i7RQp"
      },
      "source": [
        "### While Loops"
      ]
    },
    {
      "cell_type": "code",
      "execution_count": null,
      "metadata": {
        "id": "CFM4_KT_7RQp"
      },
      "outputs": [],
      "source": [
        "num = 5\n",
        "while (num > 0):\n",
        "    print(num)\n",
        "    num -= 1\n"
      ]
    },
    {
      "cell_type": "markdown",
      "metadata": {
        "id": "5PH6yL5t7RQp"
      },
      "source": [
        "### For Loops"
      ]
    },
    {
      "cell_type": "code",
      "execution_count": null,
      "metadata": {
        "id": "mlxXiNx57RQq"
      },
      "outputs": [],
      "source": [
        "myList = [\"first\", \"second\", \"third\"]\n",
        "\n",
        "for x in myList:\n",
        "    print(x)\n",
        "\n",
        "# Range: start, stop, step\n",
        "for x in range(5,10,2):\n",
        "    pass\n"
      ]
    },
    {
      "cell_type": "markdown",
      "metadata": {
        "id": "rrUavxJL7RQq"
      },
      "source": [
        "### Functions"
      ]
    },
    {
      "cell_type": "code",
      "execution_count": null,
      "metadata": {
        "id": "_AD4ZwYi7RQq"
      },
      "outputs": [],
      "source": [
        "def myFunction(number):\n",
        "    return number * 2\n",
        "\n",
        "# Default parameter\n",
        "def myFunction2(number=5):\n",
        "    return number * 2\n",
        "\n",
        "# Arbitrary arguments (*args)\n",
        "# Arguments are converted to a tuple\n",
        "def myFunction3(*args):\n",
        "    print(args[0])\n",
        "\n",
        "# Keyword arguments\n",
        "def myFunction4(arg1, arg2, arg3):\n",
        "    return arg1 + arg2 + arg3\n",
        "\n",
        "myFunction4(arg1=\"first \", arg3=\"third \", arg2=\"second \")\n",
        "\n",
        "# Arbitrary keyword arguments (**kwargs)\n",
        "# Generates a dictionary of keyword arguments\n",
        "def myFunction5(**kwargs):\n",
        "    result = \"\"\n",
        "    for x,y in kwargs.items():\n",
        "        result += x + \", \" + y + \"\\n\"\n",
        "    return result\n",
        "\n",
        "myFunction5(arg1=\"first \", arg3=\"third \", arg2=\"second \")\n",
        "\n",
        "# Lambda\n",
        "def normalFunc(a):\n",
        "    return a * 5\n",
        "normalFunc(5)\n",
        "\n",
        "lambdaFunc = lambda a : a * 5\n",
        "lambdaFunc(5)\n",
        "\n",
        "print()"
      ]
    },
    {
      "cell_type": "markdown",
      "metadata": {
        "id": "N_ZKYfZb7RQq"
      },
      "source": [
        "# Exercises"
      ]
    },
    {
      "cell_type": "markdown",
      "metadata": {
        "id": "uqPTdMYx7RQq"
      },
      "source": [
        "#### Exercise 1\n",
        "Create a function that returns `True` if you pass in a palindrome (a reversable word, ex: kayak).\n",
        "\n",
        "Example input:\n",
        "```\n",
        "exercise2(\"kayak\")\n",
        "```\n",
        "\n",
        "Example output:\n",
        "```\n",
        "True\n",
        "```"
      ]
    },
    {
      "cell_type": "code",
      "execution_count": null,
      "metadata": {
        "id": "eUaswWKy7RQq"
      },
      "outputs": [],
      "source": [
        "def exercise1(str):\n",
        "    # Replace this pass statement with your code\n",
        "    pass\n",
        "\n",
        "\n",
        "\n",
        "# Test the function\n",
        "print(exercise1(\"kayak\"))"
      ]
    },
    {
      "cell_type": "markdown",
      "metadata": {
        "id": "5v3T8qCu7RQq"
      },
      "source": [
        "#### Exercise 2\n",
        "Create a function that reverses the order of words in a sentence.\n",
        "\n",
        "Example input:\n",
        "```\n",
        "exercis2(\"Hello my name is John\")\n",
        "```\n",
        "Example output:\n",
        "```\n",
        "John is name my Hello\n",
        "```\n",
        "\n"
      ]
    },
    {
      "cell_type": "code",
      "execution_count": null,
      "metadata": {
        "id": "YaZFeVC67RQq"
      },
      "outputs": [],
      "source": [
        "def exercise2(str):\n",
        "    # Replace this pass statement with your code\n",
        "    pass\n",
        "\n",
        "\n",
        "\n",
        "# Test the function\n",
        "print(exercise2(\"Hello my name is John\"))"
      ]
    },
    {
      "cell_type": "markdown",
      "metadata": {
        "id": "4nQc8dWw7RQr"
      },
      "source": [
        "### Exercise 3\n",
        "Create a function that removes duplicate elements from lists.\n",
        "\n",
        "Example input:\n",
        "```\n",
        "numberList = [1, 2, 2, 3, 4, 5, 5]\n",
        "exercise3(numberList)\n",
        "```\n",
        "\n",
        "Example output:\n",
        "```\n",
        "[1, 2, 3, 4, 5]\n",
        "```\n",
        "\n"
      ]
    },
    {
      "cell_type": "code",
      "execution_count": null,
      "metadata": {
        "id": "Z-2CVZ7R7RQr"
      },
      "outputs": [],
      "source": [
        "def exercise3(numberList):\n",
        "    # Replace this pass statement with your code\n",
        "    pass\n",
        "\n",
        "\n",
        "# Test the function\n",
        "numberList = [1, 2, 2, 3, 4, 5, 5]\n",
        "print(exercise3(numberList))"
      ]
    },
    {
      "cell_type": "markdown",
      "metadata": {
        "id": "qS1-6Evq7RQr"
      },
      "source": [
        "### Exercise 4\n",
        "Create a function that counts the number of vowels in a sentence.\n",
        "\n",
        "Example input:\n",
        "```\n",
        "exercise4(\"The quick brown fox jumps over the lazy dog\")\n",
        "```\n",
        "\n",
        "Example output:\n",
        "```\n",
        "12\n",
        "```\n"
      ]
    },
    {
      "cell_type": "code",
      "execution_count": null,
      "metadata": {
        "id": "dlY2CJI_7RQr"
      },
      "outputs": [],
      "source": [
        "def exercise4(sentence):\n",
        "    # Replace this pass statement with your code\n",
        "    pass\n",
        "\n",
        "\n",
        "# Test the function\n",
        "print(exercise4(\"The quick brown fox jumps over the lazy dog\"))"
      ]
    },
    {
      "cell_type": "markdown",
      "metadata": {
        "id": "1ND-tDUl7RQr"
      },
      "source": [
        "### Exercise 5\n",
        "Create a function that returns `True` if a given number is prime. A prime number is only divisible by itself and 1.\n",
        "\n",
        "Example input:\n",
        "```\n",
        "exercise5(17)\n",
        "```\n",
        "\n",
        "Example output:\n",
        "```\n",
        "True\n",
        "```"
      ]
    },
    {
      "cell_type": "code",
      "execution_count": null,
      "metadata": {
        "id": "y4G0VLBy7RQr"
      },
      "outputs": [],
      "source": [
        "def exercise5(num):\n",
        "    # Replace this pass statement with your code\n",
        "    pass\n",
        "\n",
        "# Test the function\n",
        "print(exercise5(17))"
      ]
    }
  ],
  "metadata": {
    "colab": {
      "include_colab_link": true,
      "provenance": []
    },
    "kernelspec": {
      "display_name": "Python 3",
      "language": "python",
      "name": "python3"
    },
    "language_info": {
      "codemirror_mode": {
        "name": "ipython",
        "version": 3
      },
      "file_extension": ".py",
      "mimetype": "text/x-python",
      "name": "python",
      "nbconvert_exporter": "python",
      "pygments_lexer": "ipython3",
      "version": "3.12.7"
    }
  },
  "nbformat": 4,
  "nbformat_minor": 0
}
