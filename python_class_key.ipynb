{
  "cells": [
    {
      "cell_type": "markdown",
      "metadata": {
        "colab_type": "text",
        "id": "view-in-github"
      },
      "source": [
        "<a href=\"https://colab.research.google.com/github/rlsanders4/python-class/blob/main/python_class_key.ipynb\" target=\"_parent\"><img src=\"https://colab.research.google.com/assets/colab-badge.svg\" alt=\"Open In Colab\"/></a>"
      ]
    },
    {
      "cell_type": "markdown",
      "metadata": {
        "id": "35TyPwYk5cCu"
      },
      "source": [
        "# Python Basics"
      ]
    },
    {
      "cell_type": "markdown",
      "metadata": {
        "id": "5M4SL4Jp5cC0"
      },
      "source": [
        "# Exercises"
      ]
    },
    {
      "cell_type": "markdown",
      "metadata": {
        "id": "tNZOdrTQ5cC0"
      },
      "source": [
        "#### Exercise 1\n",
        "Create a function that returns `True` if you pass in a palindrome (a reversable word, ex: kayak).\n",
        "\n",
        "Example input:\n",
        "```\n",
        "exercise2(\"kayak\")\n",
        "```\n",
        "\n",
        "Example output:\n",
        "```\n",
        "True\n",
        "```"
      ]
    },
    {
      "cell_type": "code",
      "execution_count": null,
      "metadata": {
        "id": "shMIkRPG5cC0"
      },
      "outputs": [],
      "source": [
        "def exercise1(str):\n",
        "    # Replace this pass statement with your code\n",
        "    return str == str[::-1]\n",
        "\n",
        "\n",
        "\n",
        "# Test the function\n",
        "print(exercise1(\"kayak\"))"
      ]
    },
    {
      "cell_type": "markdown",
      "metadata": {
        "id": "bvzSR4-l5cC0"
      },
      "source": [
        "#### Exercise 2\n",
        "Create a function that reverses the order of words in a sentence.\n",
        "\n",
        "Example input:\n",
        "```\n",
        "exercis2(\"Hello my name is John\")\n",
        "```\n",
        "Example output:\n",
        "```\n",
        "John is name my Hello\n",
        "```\n",
        "\n"
      ]
    },
    {
      "cell_type": "code",
      "execution_count": null,
      "metadata": {
        "id": "KvzyEk0l5cC0"
      },
      "outputs": [],
      "source": [
        "def exercise2(str):\n",
        "    # Replace this pass statement with your code\n",
        "    return \" \".join(str.split(\" \")[::-1])\n",
        "\n",
        "\n",
        "\n",
        "# Test the function\n",
        "print(exercise2(\"Hello my name is John\"))"
      ]
    },
    {
      "cell_type": "markdown",
      "metadata": {
        "id": "FePy975o5cC0"
      },
      "source": [
        "### Exercise 3\n",
        "Create a function that removes duplicate elements from lists.\n",
        "\n",
        "Example input:\n",
        "```\n",
        "numberList = [1, 2, 2, 3, 4, 5, 5]\n",
        "exercise3(numberList)\n",
        "```\n",
        "\n",
        "Example output:\n",
        "```\n",
        "[1, 2, 3, 4, 5]\n",
        "```\n",
        "\n"
      ]
    },
    {
      "cell_type": "code",
      "execution_count": null,
      "metadata": {
        "id": "In4ZevLG5cC0"
      },
      "outputs": [],
      "source": [
        "def exercise3(numberList):\n",
        "    # Replace this pass statement with your code\n",
        "    return list(set(numberList))\n",
        "\n",
        "\n",
        "# Test the function\n",
        "numberList = [1, 2, 2, 3, 4, 5, 5]\n",
        "print(exercise3(numberList))"
      ]
    },
    {
      "cell_type": "markdown",
      "metadata": {
        "id": "bPTM2aSi5cC1"
      },
      "source": [
        "### Exercise 4\n",
        "Create a function that counts the number of vowels in a sentence.\n",
        "\n",
        "Example input:\n",
        "```\n",
        "exercise4(\"The quick brown fox jumps over the lazy dog\")\n",
        "```\n",
        "\n",
        "Example output:\n",
        "```\n",
        "12\n",
        "```\n"
      ]
    },
    {
      "cell_type": "code",
      "execution_count": null,
      "metadata": {
        "id": "-uFavxB35cC1"
      },
      "outputs": [],
      "source": [
        "def exercise4(sentence):\n",
        "    # Replace this pass statement with your code\n",
        "    count = 0\n",
        "    vowels = \"aeiouy\"\n",
        "    for letter in sentence:\n",
        "        if letter in vowels:\n",
        "            count += 1\n",
        "    return count\n",
        "\n",
        "\n",
        "# Test the function\n",
        "print(exercise4(\"The quick brown fox jumps over the lazy dog\"))"
      ]
    },
    {
      "cell_type": "markdown",
      "metadata": {
        "id": "1FGOaB9G5cC1"
      },
      "source": [
        "### Exercise 5\n",
        "Create a function that returns `True` if a given number is prime. A prime number is only divisible by itself and 1.\n",
        "\n",
        "Example input:\n",
        "```\n",
        "exercise5(17)\n",
        "```\n",
        "\n",
        "Example output:\n",
        "```\n",
        "True\n",
        "```"
      ]
    },
    {
      "cell_type": "code",
      "execution_count": null,
      "metadata": {
        "id": "CVNkjXre5cC1"
      },
      "outputs": [],
      "source": [
        "def exercise5(num):\n",
        "    # Replace this pass statement with your code\n",
        "    isPrime = True\n",
        "    if (num > 1):\n",
        "        for i in range(2,num):\n",
        "            if (num % i) == 0:\n",
        "                isPrime = False\n",
        "    else:\n",
        "        isPrime = False\n",
        "    return isPrime\n",
        "\n",
        "# Test the function\n",
        "print(exercise5(17))"
      ]
    }
  ],
  "metadata": {
    "colab": {
      "include_colab_link": true,
      "provenance": []
    },
    "kernelspec": {
      "display_name": "Python 3",
      "language": "python",
      "name": "python3"
    },
    "language_info": {
      "codemirror_mode": {
        "name": "ipython",
        "version": 3
      },
      "file_extension": ".py",
      "mimetype": "text/x-python",
      "name": "python",
      "nbconvert_exporter": "python",
      "pygments_lexer": "ipython3",
      "version": "3.12.7"
    }
  },
  "nbformat": 4,
  "nbformat_minor": 0
}
