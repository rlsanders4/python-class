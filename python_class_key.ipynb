{
  "cells": [
    {
      "cell_type": "markdown",
      "metadata": {
        "id": "view-in-github",
        "colab_type": "text"
      },
      "source": [
        "<a href=\"https://colab.research.google.com/github/rlsanders4/python-class/blob/main/python_class_key.ipynb\" target=\"_parent\"><img src=\"https://colab.research.google.com/assets/colab-badge.svg\" alt=\"Open In Colab\"/></a>"
      ]
    },
    {
      "cell_type": "markdown",
      "metadata": {
        "id": "35TyPwYk5cCu"
      },
      "source": [
        "# Python Basics"
      ]
    },
    {
      "cell_type": "markdown",
      "metadata": {
        "id": "T59Q_FJI5cCv"
      },
      "source": [
        "## Data types"
      ]
    },
    {
      "cell_type": "markdown",
      "metadata": {
        "id": "cu7r6juA5cCv"
      },
      "source": [
        "### Boolean"
      ]
    },
    {
      "cell_type": "code",
      "execution_count": null,
      "metadata": {
        "id": "7FimS4h-5cCw"
      },
      "outputs": [],
      "source": [
        "trueBoolean = True\n",
        "falseBoolean = False\n",
        "\n",
        "# Comparison operators: ==, !=, <, >, <=, >=\n",
        "\n",
        "# Logical operators: and, or, not"
      ]
    },
    {
      "cell_type": "markdown",
      "metadata": {
        "id": "jBQ7QTZL5cCw"
      },
      "source": [
        "### Integers and Floats"
      ]
    },
    {
      "cell_type": "code",
      "execution_count": null,
      "metadata": {
        "id": "-Be1Fp325cCx"
      },
      "outputs": [],
      "source": [
        "myInt = 3\n",
        "myFloat = 3.14\n",
        "sum = myInt * myFloat\n",
        "\n",
        "# Operators: +, -, *, / , %, **, //\n",
        "\n",
        "range(10)\n",
        "\n",
        "print()"
      ]
    },
    {
      "cell_type": "markdown",
      "metadata": {
        "id": "xOraAwJI5cCx"
      },
      "source": [
        "### String"
      ]
    },
    {
      "cell_type": "code",
      "execution_count": null,
      "metadata": {
        "id": "KdeZZ83x5cCx"
      },
      "outputs": [],
      "source": [
        "# Create a string with double quotes\n",
        "doubleQuoteString = \"this is a string\"\n",
        "\n",
        "# Create a string with single quotes\n",
        "singleQuoteString = 'this is also a string'\n",
        "\n",
        "#Create a multiline string\n",
        "multiLineString = \"\"\"multiple\n",
        "line\n",
        "string\n",
        "\"\"\"\n",
        "\n",
        "# Concatinate two strings\n",
        "concatination = \"two strings \" + \"combined\"\n",
        "\n",
        "# Use special characters in a string\n",
        "specialCharacterString = \"multiple\\nline\\nstring\\n\"\n",
        "\n",
        "# Escape the '\\' character in a string\n",
        "windowsPath = \"C:\\\\my\\\\file\\\\path\"\n",
        "\n",
        "# Use a raw string\n",
        "windowsPathRaw = R\"C:\\my\\file\\path\"\n",
        "\n",
        "# Format a string\n",
        "name = \"Ralph\"\n",
        "greeting = f\"hello, my name is {name}\"\n",
        "\n",
        "# Get the length of a string\n",
        "length = len(doubleQuoteString)\n",
        "\n",
        "# Slice a string\n",
        "stringSlice = doubleQuoteString[::]\n",
        "\n",
        "print()"
      ]
    },
    {
      "cell_type": "markdown",
      "metadata": {
        "id": "NXfPVjAj5cCx"
      },
      "source": [
        "### Set"
      ]
    },
    {
      "cell_type": "code",
      "execution_count": null,
      "metadata": {
        "id": "MVsvf7dZ5cCy"
      },
      "outputs": [],
      "source": [
        "# Unordered\n",
        "# Unindexed\n",
        "# Does not contain duplicates\n",
        "\n",
        "# Initilization\n",
        "mySet = {\"first\", \"second\", \"third\"}\n",
        "\n",
        "# Add an element\n",
        "mySet.add(\"fourth\")\n",
        "\n",
        "# Remove an element\n",
        "mySet.remove(\"fourth\")\n",
        "\n",
        "mySet2 = {\"fourth\", \"fifth\", \"sixth\"}\n",
        "\n",
        "# Union and intersection\n",
        "mySet.union(mySet2)\n",
        "mySet.intersection(mySet2)\n",
        "\n",
        "# Access an element\n",
        "for x in mySet:\n",
        "    pass # Do something\n",
        "\n",
        "print()"
      ]
    },
    {
      "cell_type": "markdown",
      "metadata": {
        "id": "e5lHaqHv5cCy"
      },
      "source": [
        "### List"
      ]
    },
    {
      "cell_type": "code",
      "execution_count": null,
      "metadata": {
        "id": "uPo7QU2T5cCy"
      },
      "outputs": [],
      "source": [
        "# Ordered\n",
        "# Indexed\n",
        "\n",
        "# Initialization\n",
        "myList = [\"first\", \"second\", \"third\"]\n",
        "comboList = [4.2, \"hello\", False]\n",
        "\n",
        "# Access an element\n",
        "myList[0]\n",
        "\n",
        "# Change an element\n",
        "myList[0] = \"newElement\"\n",
        "myList[0] = \"first\"\n",
        "\n",
        "# Add an element\n",
        "myList.append(\"fourth\")\n",
        "\n",
        "# Sort\n",
        "myList.sort()\n",
        "\n",
        "# Split and join\n",
        "stringList = \"my list of strings\".split(\" \")\n",
        "commaSeperatedString = \",\".join(stringList)\n",
        "\n",
        "# List comprehension\n",
        "newList = []\n",
        "for x in myList:\n",
        "    if \"t\" in x:\n",
        "        newList.append(x)\n",
        "\n",
        "newList = [x for x in myList if \"t\" in x]\n",
        "\n",
        "\n",
        "print()"
      ]
    },
    {
      "cell_type": "markdown",
      "metadata": {
        "id": "3z3Wohxr5cCy"
      },
      "source": [
        "### Tuple"
      ]
    },
    {
      "cell_type": "code",
      "execution_count": null,
      "metadata": {
        "id": "6WyESHJF5cCy"
      },
      "outputs": [],
      "source": [
        "# Ordered\n",
        "# Unchangeable\n",
        "# Indexed\n",
        "\n",
        "# Initialize\n",
        "myTuple = (\"first\", \"second\", \"third\")\n",
        "\n",
        "# Access an element\n",
        "myTuple[0]\n",
        "\n",
        "# Add an element\n",
        "myList = list(myTuple)\n",
        "myList.append(\"fourth\")\n",
        "myTuple2 = tuple(myList)\n",
        "\n",
        "# Combine with other data structures\n",
        "names = {[(\"john\", \"doe\"), (\"jane\", \"doe\")],[(\"john\", \"smith\"), (\"alex\", \"smith\")]}\n",
        "\n",
        "print()"
      ]
    },
    {
      "cell_type": "markdown",
      "metadata": {
        "id": "Adp87A0H5cCy"
      },
      "source": [
        "### Dictionary"
      ]
    },
    {
      "cell_type": "code",
      "execution_count": null,
      "metadata": {
        "id": "8yW-SLvE5cCy"
      },
      "outputs": [],
      "source": [
        "# Unordered/ordered\n",
        "\n",
        "# Initialize\n",
        "myDict = {\"joe\" : 400, \"rob\" : 500, \"josh\" : 600}\n",
        "\n",
        "# Access an element\n",
        "myDict[\"joe\"]\n",
        "\n",
        "# Change an element\n",
        "myDict[\"rob\"] = 550\n",
        "\n",
        "# Add a new element\n",
        "myDict[\"tom\"] = 600\n",
        "\n",
        "\n",
        "print()\n"
      ]
    },
    {
      "cell_type": "markdown",
      "metadata": {
        "id": "ezaar9ZD5cCz"
      },
      "source": [
        "## Flow Control"
      ]
    },
    {
      "cell_type": "markdown",
      "metadata": {
        "id": "F6KOQvPf5cCz"
      },
      "source": [
        "### If Statements"
      ]
    },
    {
      "cell_type": "code",
      "execution_count": null,
      "metadata": {
        "id": "i70Ns7Aw5cCz"
      },
      "outputs": [],
      "source": [
        "# if\n",
        "condition = True\n",
        "if (condition):\n",
        "    pass\n",
        "\n",
        "# if, elif, else\n",
        "a = 7\n",
        "if (a < 5):\n",
        "    pass\n",
        "elif (a == 5):\n",
        "    pass\n",
        "else:\n",
        "    pass\n",
        "\n",
        "# Ternary operator\n",
        "num = 12\n",
        "\n",
        "result = \"\"\n",
        "if (num > 10):\n",
        "    result = \"large\"\n",
        "else:\n",
        "    result = \"small\"\n",
        "\n",
        "result = \"large\" if num > 10 else \"small\"\n",
        "\n",
        "print()\n",
        "\n"
      ]
    },
    {
      "cell_type": "markdown",
      "metadata": {
        "id": "SdDhWDEJ5cCz"
      },
      "source": [
        "### While Loops"
      ]
    },
    {
      "cell_type": "code",
      "execution_count": null,
      "metadata": {
        "id": "a2vbooWk5cCz"
      },
      "outputs": [],
      "source": [
        "num = 5\n",
        "while (num > 0):\n",
        "    print(num)\n",
        "    num -= 1\n"
      ]
    },
    {
      "cell_type": "markdown",
      "metadata": {
        "id": "e0AXcw4c5cCz"
      },
      "source": [
        "### For Loops"
      ]
    },
    {
      "cell_type": "code",
      "execution_count": null,
      "metadata": {
        "id": "Yk5IpT3q5cCz"
      },
      "outputs": [],
      "source": [
        "myList = [\"first\", \"second\", \"third\"]\n",
        "\n",
        "for x in myList:\n",
        "    print(x)\n",
        "\n",
        "# Range: start, stop, step\n",
        "for x in range(5,10,2):\n",
        "    pass\n"
      ]
    },
    {
      "cell_type": "markdown",
      "metadata": {
        "id": "f59CFcRI5cCz"
      },
      "source": [
        "### Functions"
      ]
    },
    {
      "cell_type": "code",
      "execution_count": null,
      "metadata": {
        "id": "Mv5K-3lj5cC0"
      },
      "outputs": [],
      "source": [
        "def myFunction(number):\n",
        "    return number * 2\n",
        "\n",
        "print(myFunction(5))"
      ]
    },
    {
      "cell_type": "markdown",
      "metadata": {
        "id": "5M4SL4Jp5cC0"
      },
      "source": [
        "# Exercises"
      ]
    },
    {
      "cell_type": "markdown",
      "metadata": {
        "id": "tNZOdrTQ5cC0"
      },
      "source": [
        "#### Exercise 1\n",
        "Create a function that returns 'true' if you pass in a palindrome (a reversable word, ex: kayak).\n",
        "\n",
        "Example input:\n",
        "```\n",
        "exercise2(\"kayak\")\n",
        "```\n",
        "\n",
        "Example output:\n",
        "```\n",
        "true\n",
        "```"
      ]
    },
    {
      "cell_type": "code",
      "execution_count": null,
      "metadata": {
        "id": "shMIkRPG5cC0"
      },
      "outputs": [],
      "source": [
        "def exercise1(str):\n",
        "    # Replace this pass statement with your code\n",
        "    return str == str[::-1]\n",
        "\n",
        "\n",
        "\n",
        "# Test the function\n",
        "print(exercise1(\"kayak\"))"
      ]
    },
    {
      "cell_type": "markdown",
      "metadata": {
        "id": "bvzSR4-l5cC0"
      },
      "source": [
        "#### Exercise 2\n",
        "Create a function that reverses the order of words in a sentence.\n",
        "\n",
        "Example input:\n",
        "```\n",
        "exercis2(\"Hello my name is John\")\n",
        "```\n",
        "Example output:\n",
        "```\n",
        "John is name my Hello\n",
        "```\n",
        "\n"
      ]
    },
    {
      "cell_type": "code",
      "execution_count": null,
      "metadata": {
        "id": "KvzyEk0l5cC0"
      },
      "outputs": [],
      "source": [
        "def exercise2(str):\n",
        "    # Replace this pass statement with your code\n",
        "    return \" \".join(str.split(\" \")[::-1])\n",
        "\n",
        "\n",
        "\n",
        "# Test the function\n",
        "print(exercise2(\"Hello my name is John\"))"
      ]
    },
    {
      "cell_type": "markdown",
      "metadata": {
        "id": "FePy975o5cC0"
      },
      "source": [
        "### Exercise 3\n",
        "Create a function that removes duplicate elements from lists.\n",
        "\n",
        "Example input:\n",
        "```\n",
        "numberList = [1, 2, 2, 3, 4, 5, 5]\n",
        "exercise3(numberList)\n",
        "```\n",
        "\n",
        "Example output:\n",
        "```\n",
        "[1, 2, 3, 4, 5]\n",
        "```\n",
        "\n"
      ]
    },
    {
      "cell_type": "code",
      "execution_count": null,
      "metadata": {
        "id": "In4ZevLG5cC0"
      },
      "outputs": [],
      "source": [
        "def exercise3(numberList):\n",
        "    # Replace this pass statement with your code\n",
        "    return list(set(numberList))\n",
        "\n",
        "\n",
        "# Test the function\n",
        "numberList = [1, 2, 2, 3, 4, 5, 5]\n",
        "print(exercise3(numberList))"
      ]
    },
    {
      "cell_type": "markdown",
      "metadata": {
        "id": "bPTM2aSi5cC1"
      },
      "source": [
        "### Exercise 4\n",
        "Create a function that counts the number of vowels in a sentence.\n",
        "\n",
        "Example input:\n",
        "```\n",
        "exercise4(\"The quick brown fox jumps over the lazy dog\")\n",
        "```\n",
        "\n",
        "Example output:\n",
        "```\n",
        "12\n",
        "```\n"
      ]
    },
    {
      "cell_type": "code",
      "execution_count": null,
      "metadata": {
        "id": "-uFavxB35cC1"
      },
      "outputs": [],
      "source": [
        "def exercise4(sentence):\n",
        "    # Replace this pass statement with your code\n",
        "    count = 0\n",
        "    vowels = \"aeiouy\"\n",
        "    for letter in sentence:\n",
        "        if letter in vowels:\n",
        "            count += 1\n",
        "    return count\n",
        "\n",
        "\n",
        "# Test the function\n",
        "print(exercise4(\"The quick brown fox jumps over the lazy dog\"))"
      ]
    },
    {
      "cell_type": "markdown",
      "metadata": {
        "id": "1FGOaB9G5cC1"
      },
      "source": [
        "### Exercise 5\n",
        "Create a function that returns `True` if a given number is prime. A prime number is only divisible by itself and 1.\n",
        "\n",
        "Example input:\n",
        "```\n",
        "exercise5(17)\n",
        "```\n",
        "\n",
        "Example output:\n",
        "```\n",
        "True\n",
        "```"
      ]
    },
    {
      "cell_type": "code",
      "execution_count": null,
      "metadata": {
        "id": "CVNkjXre5cC1"
      },
      "outputs": [],
      "source": [
        "def exercise5(num):\n",
        "    # Replace this pass statement with your code\n",
        "    isPrime = True\n",
        "    if (num > 1):\n",
        "        for i in range(2,num):\n",
        "            if (num % i) == 0:\n",
        "                isPrime = False\n",
        "    else:\n",
        "        isPrime = False\n",
        "    return isPrime\n",
        "\n",
        "# Test the function\n",
        "print(exercise5(17))\n",
        "\n",
        "\n"
      ]
    }
  ],
  "metadata": {
    "kernelspec": {
      "display_name": "Python 3",
      "language": "python",
      "name": "python3"
    },
    "language_info": {
      "codemirror_mode": {
        "name": "ipython",
        "version": 3
      },
      "file_extension": ".py",
      "mimetype": "text/x-python",
      "name": "python",
      "nbconvert_exporter": "python",
      "pygments_lexer": "ipython3",
      "version": "3.10.0"
    },
    "colab": {
      "provenance": [],
      "include_colab_link": true
    }
  },
  "nbformat": 4,
  "nbformat_minor": 0
}